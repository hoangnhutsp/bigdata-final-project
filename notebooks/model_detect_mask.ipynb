{
  "nbformat": 4,
  "nbformat_minor": 0,
  "metadata": {
    "colab": {
      "name": "model_detect_mask.ipynb",
      "provenance": [],
      "collapsed_sections": []
    },
    "kernelspec": {
      "name": "python3",
      "display_name": "Python 3"
    },
    "language_info": {
      "name": "python"
    },
    "accelerator": "GPU"
  },
  "cells": [
    {
      "cell_type": "markdown",
      "source": [
        "**Train Model nhận diện khẩu trang sử dụng Pretrain model VGG19 của Keras trên bộ dữ liệu Face Mask 12K Images Dataset từ Kaggle.**\n",
        "\n",
        "\n",
        "\n",
        "\n"
      ],
      "metadata": {
        "id": "XBjRkLBYoPDc"
      }
    },
    {
      "cell_type": "code",
      "source": [
        "from google.colab import drive\n",
        "drive.mount('/content/drive')"
      ],
      "metadata": {
        "colab": {
          "base_uri": "https://localhost:8080/"
        },
        "id": "NRwqRGheFOcn",
        "outputId": "d07a14ae-4aac-4121-ac26-bde178db901c"
      },
      "execution_count": null,
      "outputs": [
        {
          "output_type": "stream",
          "name": "stdout",
          "text": [
            "Drive already mounted at /content/drive; to attempt to forcibly remount, call drive.mount(\"/content/drive\", force_remount=True).\n"
          ]
        }
      ]
    },
    {
      "cell_type": "code",
      "source": [
        "import numpy as np # linear algebra\n",
        "import pandas as pd # data processing, CSV file I/O (e.g. pd.read_csv)\n",
        "import cv2\n",
        "from scipy.spatial import distance\n",
        "import os \n",
        "import tensorflow as tf\n",
        "import matplotlib.pyplot as plt"
      ],
      "metadata": {
        "id": "8V3oUU6XAkYl"
      },
      "execution_count": null,
      "outputs": []
    },
    {
      "cell_type": "code",
      "source": [
        "from keras.applications.vgg19 import VGG19\n",
        "from keras.applications.vgg19 import preprocess_input\n",
        "from keras import Sequential\n",
        "from keras.layers import Flatten, Dense\n",
        "from keras.preprocessing.image import ImageDataGenerator"
      ],
      "metadata": {
        "id": "Bx_2AmTkHT4K"
      },
      "execution_count": null,
      "outputs": []
    },
    {
      "cell_type": "code",
      "source": [
        "#Load train and test set\n",
        "train_dir = '/content/drive/MyDrive/BigData/dataset/Face Mask Dataset/Train'\n",
        "test_dir = '/content/drive/MyDrive/BigData/dataset/Face Mask Dataset/Test'\n",
        "val_dir = '/content/drive/MyDrive/BigData/dataset/Face Mask Dataset/Validation'"
      ],
      "metadata": {
        "id": "JYXIrplXHYOY"
      },
      "execution_count": null,
      "outputs": []
    },
    {
      "cell_type": "code",
      "source": [
        "# Data augmentation\n",
        "\n",
        "\n",
        "train_datagen = ImageDataGenerator(rescale=1.0/255, horizontal_flip=True, zoom_range=0.2,shear_range=0.2)\n",
        "train_generator = train_datagen.flow_from_directory(directory=train_dir,target_size=(128,128),class_mode='categorical',batch_size=32)\n",
        "\n",
        "val_datagen = ImageDataGenerator(rescale=1.0/255)\n",
        "val_generator = train_datagen.flow_from_directory(directory=val_dir,target_size=(128,128),class_mode='categorical',batch_size=32, shuffle=False)\n",
        "\n",
        "test_datagen = ImageDataGenerator(rescale=1.0/255)\n",
        "test_generator = train_datagen.flow_from_directory(directory=test_dir,target_size=(128,128),class_mode='categorical',batch_size=32, shuffle=False)"
      ],
      "metadata": {
        "colab": {
          "base_uri": "https://localhost:8080/"
        },
        "id": "LCnGXaGDHpXx",
        "outputId": "2e9320f5-d237-4f0c-eec9-2987dd7fe275"
      },
      "execution_count": null,
      "outputs": [
        {
          "output_type": "stream",
          "name": "stdout",
          "text": [
            "Found 10000 images belonging to 2 classes.\n",
            "Found 800 images belonging to 2 classes.\n",
            "Found 1002 images belonging to 2 classes.\n"
          ]
        }
      ]
    },
    {
      "cell_type": "markdown",
      "source": [
        "Building VGG19 transfer learning model."
      ],
      "metadata": {
        "id": "GTi05_M1Hyf3"
      }
    },
    {
      "cell_type": "code",
      "source": [
        "vgg19 = VGG19(weights='imagenet',include_top=False,input_shape=(128,128,3))\n",
        "\n",
        "for layer in vgg19.layers:\n",
        "    layer.trainable = False\n",
        "    \n",
        "model = Sequential()\n",
        "model.add(vgg19)\n",
        "model.add(Flatten())\n",
        "model.add(Dense(2,activation='sigmoid'))\n",
        "model.summary()"
      ],
      "metadata": {
        "colab": {
          "base_uri": "https://localhost:8080/"
        },
        "id": "rJMHD0A6HsGq",
        "outputId": "ecc67084-8f85-406a-ba50-560c30eb250f"
      },
      "execution_count": null,
      "outputs": [
        {
          "output_type": "stream",
          "name": "stdout",
          "text": [
            "Model: \"sequential\"\n",
            "_________________________________________________________________\n",
            " Layer (type)                Output Shape              Param #   \n",
            "=================================================================\n",
            " vgg19 (Functional)          (None, 4, 4, 512)         20024384  \n",
            "                                                                 \n",
            " flatten (Flatten)           (None, 8192)              0         \n",
            "                                                                 \n",
            " dense (Dense)               (None, 2)                 16386     \n",
            "                                                                 \n",
            "=================================================================\n",
            "Total params: 20,040,770\n",
            "Trainable params: 16,386\n",
            "Non-trainable params: 20,024,384\n",
            "_________________________________________________________________\n"
          ]
        }
      ]
    },
    {
      "cell_type": "code",
      "source": [
        "model.compile(optimizer=\"adam\",loss=\"categorical_crossentropy\",metrics =\"accuracy\")"
      ],
      "metadata": {
        "id": "tqLZpQ1GIAr3"
      },
      "execution_count": null,
      "outputs": []
    },
    {
      "cell_type": "code",
      "source": [
        "history = model.fit_generator(generator=train_generator,\n",
        "                              steps_per_epoch=len(train_generator)//32,\n",
        "                              epochs=20,validation_data=val_generator,\n",
        "                              validation_steps=len(val_generator)//32)"
      ],
      "metadata": {
        "colab": {
          "base_uri": "https://localhost:8080/"
        },
        "id": "07ewOjRyIIX9",
        "outputId": "8c116aa6-d4bd-4cc7-8ee9-a84ff8b31e98"
      },
      "execution_count": null,
      "outputs": [
        {
          "output_type": "stream",
          "name": "stderr",
          "text": [
            "/usr/local/lib/python3.7/dist-packages/ipykernel_launcher.py:4: UserWarning: `Model.fit_generator` is deprecated and will be removed in a future version. Please use `Model.fit`, which supports generators.\n",
            "  after removing the cwd from sys.path.\n"
          ]
        },
        {
          "output_type": "stream",
          "name": "stdout",
          "text": [
            "Epoch 1/20\n",
            "9/9 [==============================] - 64s 7s/step - loss: 0.5648 - accuracy: 0.6875\n",
            "Epoch 2/20\n",
            "9/9 [==============================] - 26s 3s/step - loss: 0.2550 - accuracy: 0.9236\n",
            "Epoch 3/20\n",
            "9/9 [==============================] - 25s 3s/step - loss: 0.1856 - accuracy: 0.9236\n",
            "Epoch 4/20\n",
            "9/9 [==============================] - 22s 3s/step - loss: 0.1401 - accuracy: 0.9479\n",
            "Epoch 5/20\n",
            "9/9 [==============================] - 25s 3s/step - loss: 0.0948 - accuracy: 0.9826\n",
            "Epoch 6/20\n",
            "9/9 [==============================] - 26s 3s/step - loss: 0.0751 - accuracy: 0.9931\n",
            "Epoch 7/20\n",
            "9/9 [==============================] - 22s 3s/step - loss: 0.1165 - accuracy: 0.9514\n",
            "Epoch 8/20\n",
            "9/9 [==============================] - 21s 2s/step - loss: 0.0913 - accuracy: 0.9757\n",
            "Epoch 9/20\n",
            "9/9 [==============================] - 19s 2s/step - loss: 0.0737 - accuracy: 0.9861\n",
            "Epoch 10/20\n",
            "9/9 [==============================] - 16s 2s/step - loss: 0.0857 - accuracy: 0.9757\n",
            "Epoch 11/20\n",
            "9/9 [==============================] - 17s 2s/step - loss: 0.0835 - accuracy: 0.9688\n",
            "Epoch 12/20\n",
            "9/9 [==============================] - 17s 2s/step - loss: 0.0580 - accuracy: 0.9931\n",
            "Epoch 13/20\n",
            "9/9 [==============================] - 22s 2s/step - loss: 0.0628 - accuracy: 0.9861\n",
            "Epoch 14/20\n",
            "9/9 [==============================] - 16s 2s/step - loss: 0.0684 - accuracy: 0.9757\n",
            "Epoch 15/20\n",
            "9/9 [==============================] - 14s 2s/step - loss: 0.0679 - accuracy: 0.9826\n",
            "Epoch 16/20\n",
            "9/9 [==============================] - 19s 2s/step - loss: 0.0798 - accuracy: 0.9757\n",
            "Epoch 17/20\n",
            "9/9 [==============================] - 14s 2s/step - loss: 0.0747 - accuracy: 0.9722\n",
            "Epoch 18/20\n",
            "9/9 [==============================] - 15s 2s/step - loss: 0.0574 - accuracy: 0.9861\n",
            "Epoch 19/20\n",
            "9/9 [==============================] - 15s 2s/step - loss: 0.0761 - accuracy: 0.9861\n",
            "Epoch 20/20\n",
            "9/9 [==============================] - 15s 2s/step - loss: 0.0743 - accuracy: 0.9722\n"
          ]
        }
      ]
    },
    {
      "cell_type": "code",
      "source": [
        "loss, acc = model.evaluate(test_generator)\n",
        "print(\"Loss: \", loss)\n",
        "print(\"Accuracy: \", acc)"
      ],
      "metadata": {
        "colab": {
          "base_uri": "https://localhost:8080/"
        },
        "id": "8z9aB04wILk5",
        "outputId": "795a9ecc-a977-46eb-96d4-b7367c9d14bc"
      },
      "execution_count": null,
      "outputs": [
        {
          "output_type": "stream",
          "name": "stdout",
          "text": [
            "32/32 [==============================] - 168s 5s/step - loss: 0.0556 - accuracy: 0.9830\n",
            "Loss:  0.05559169128537178\n",
            "Accuracy:  0.9830339550971985\n"
          ]
        }
      ]
    },
    {
      "cell_type": "code",
      "source": [
        "from sklearn.metrics import classification_report\n",
        "from sklearn.metrics import confusion_matrix\n",
        "import matplotlib.pyplot as plt\n",
        "import numpy as np\n",
        "from sklearn.metrics import ConfusionMatrixDisplay\n",
        "\n",
        "Y_pred = model.predict(test_generator,len(test_generator) // 33)\n",
        "y_pred = np.argmax(Y_pred, axis=1)\n",
        "cm = confusion_matrix(test_generator.classes, y_pred)\n",
        "\n",
        "print('Classification Report')\n",
        "target_names = ['WithMask', 'WithoutMask']\n",
        "print(classification_report(test_generator.classes, y_pred, target_names=target_names))\n",
        "\n",
        "print('Confusion Matrix')\n",
        "disp = ConfusionMatrixDisplay(confusion_matrix=cm, display_labels=target_names)\n",
        "disp.plot(cmap=plt.cm.Blues)\n",
        "plt.show()"
      ],
      "metadata": {
        "colab": {
          "base_uri": "https://localhost:8080/",
          "height": 470
        },
        "id": "jeu4h0nbdLhL",
        "outputId": "f71df81f-778c-49ec-ef9e-ef86399234f0"
      },
      "execution_count": null,
      "outputs": [
        {
          "output_type": "stream",
          "name": "stdout",
          "text": [
            "Classification Report\n",
            "              precision    recall  f1-score   support\n",
            "\n",
            "    WithMask       0.98      0.99      0.98       493\n",
            " WithoutMask       0.99      0.98      0.98       509\n",
            "\n",
            "    accuracy                           0.98      1002\n",
            "   macro avg       0.98      0.98      0.98      1002\n",
            "weighted avg       0.98      0.98      0.98      1002\n",
            "\n",
            "Confusion Matrix\n"
          ]
        },
        {
          "output_type": "display_data",
          "data": {
            "image/png": "[encoded data removed]",
            "text/plain": [
              "<Figure size 432x288 with 2 Axes>"
            ]
          },
          "metadata": {
            "needs_background": "light"
          }
        }
      ]
    },
    {
      "cell_type": "markdown",
      "source": [
        "Save the model."
      ],
      "metadata": {
        "id": "MS1ylNKsIr4K"
      }
    },
    {
      "cell_type": "code",
      "source": [
        "model.save('/content/drive/MyDrive/BigData/model/VGG19/masknet_vgg19.h5')"
      ],
      "metadata": {
        "id": "ScCoveSCIuL1"
      },
      "execution_count": null,
      "outputs": []
    }
  ]
}